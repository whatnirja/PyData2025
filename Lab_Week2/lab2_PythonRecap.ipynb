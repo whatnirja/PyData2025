{
 "cells": [
  {
   "cell_type": "markdown",
   "id": "181f409d",
   "metadata": {},
   "source": [
    "# Lab2: Python Recap"
   ]
  },
  {
   "cell_type": "markdown",
   "id": "7ec5fbbb",
   "metadata": {},
   "source": [
    "## 1. Contains Duplicate"
   ]
  },
  {
   "cell_type": "markdown",
   "id": "af12119e",
   "metadata": {},
   "source": [
    "Given an integer array `nums`, return `true` if any value appears at least twice in the array, and return `false` if every element is distinct.\n",
    "\n",
    "https://leetcode.com/problems/contains-duplicate/description/"
   ]
  },
  {
   "cell_type": "code",
   "execution_count": 3,
   "id": "d0913a5d",
   "metadata": {},
   "outputs": [
    {
     "name": "stdout",
     "output_type": "stream",
     "text": [
      "[8, 7]\n",
      "[-1, 2, 3]\n",
      "[]\n"
     ]
    }
   ],
   "source": [
    "def repeating_elements(nums):\n",
    "    list = []\n",
    "    for i in range(len(nums)):\n",
    "        for j in range(i + 1, len(nums)):\n",
    "            if nums[i] == nums[j]:\n",
    "                list.append(nums[i])\n",
    "        else:\n",
    "            continue\n",
    "    return list\n",
    "\n",
    "print(repeating_elements([9, 8, 7, 8, 7, 6, 5]))  # expected output : [8, 7]\n",
    "print(repeating_elements([-1, 2, 3, -1, 2, 3]))   # expected output : [-1, 2, 3]\n",
    "print(repeating_elements([1, 2, 3, 4, 5]))        # expected output : []"
   ]
  },
  {
   "cell_type": "markdown",
   "id": "483afe49",
   "metadata": {},
   "source": [
    "## 2. Valid Anagram"
   ]
  },
  {
   "cell_type": "markdown",
   "id": "92b8f85c",
   "metadata": {},
   "source": [
    "An `anagram` is a word or phrase formed by rearranging the letters of a different word or phrase, using all the original letters exactly once.\n",
    "\n",
    "https://leetcode.com/problems/valid-anagram/description/\n",
    "\n",
    "**Notes:** \n",
    "- `s` and `t` consist of lowercase English letters.\n",
    "- Do not use built-in functions like `sorted()` or `collections.Counter()` to solve this problem."
   ]
  },
  {
   "cell_type": "code",
   "execution_count": null,
   "id": "d9195873",
   "metadata": {},
   "outputs": [
    {
     "name": "stdout",
     "output_type": "stream",
     "text": [
      "['a', 'a', 'a', 'g', 'm', 'n', 'r']\n",
      "['a', 'a', 'a', 'g', 'm', 'n', 'r']\n",
      "True\n",
      "False\n"
     ]
    }
   ],
   "source": [
    "def isAnagram(s, t):\n",
    "    return sorted(s) == sorted(t)\n",
    "\n",
    "print(isAnagram(\"anagram\", \"nagaram\")) # expected output : True\n",
    "print(isAnagram(\"rat\", \"car\"))       # expected output : False"
   ]
  },
  {
   "cell_type": "markdown",
   "id": "2e056654",
   "metadata": {},
   "source": [
    "## 3. Two Sum"
   ]
  },
  {
   "cell_type": "markdown",
   "id": "89b078b5",
   "metadata": {},
   "source": [
    "Given an array of integers `nums` and an integer `target`, return indices of the two numbers such that they add up to `target`.\n",
    "\n",
    "https://leetcode.com/problems/two-sum/description/\n",
    "\n",
    "**Notes:**\n",
    "\n",
    "- You may assume that each input would have exactly one solution, and you may not use the same element twice.\n",
    "\n",
    "- You can return the answer in any order.\n",
    "\n"
   ]
  },
  {
   "cell_type": "code",
   "execution_count": null,
   "id": "d2bce3de",
   "metadata": {},
   "outputs": [
    {
     "name": "stdout",
     "output_type": "stream",
     "text": [
      "[0, 1]\n",
      "[1, 2]\n",
      "[0, 1]\n"
     ]
    }
   ],
   "source": [
    "def twoSum(nums, target):\n",
    "    #your code here\n",
    "    ...\n",
    "\n",
    "print(twoSum([2,7,11,15], 9)) # expected output : [0, 1]\n",
    "print(twoSum([3,2,4], 6))     # expected output : [1, 2]\n",
    "print(twoSum([3,3], 6))       # expected output : [0, 1]"
   ]
  },
  {
   "cell_type": "markdown",
   "id": "899dd851",
   "metadata": {},
   "source": [
    "## 4. Frequent Words Finder\n",
    "Imagine working with large documents, such as news articles, thesis manuscripts, or even books. Identifying the most common words could give us an overview of the main themes or topics in the text.\n",
    "\n",
    "Given a large body of text, we need to identify the three most frequently occurring words. \n",
    "\n",
    "**Notes:**\n",
    "- Not case-sensitive (e.g., \"The\" and \"the\" are the same word).\n",
    "\n",
    "**Hint:** \n",
    "- Step 1: Normalize the text by converting it to lowercase.\n",
    "- Step 2: Split the text into words.\n",
    "- Step 3: Count the occurrences of each word.\n",
    "- Step 4: Identify the top three most frequent words. (You'll use this for `KNN` algorithm in the future lessons)\n",
    "\n"
   ]
  },
  {
   "cell_type": "code",
   "execution_count": null,
   "id": "5f053266",
   "metadata": {},
   "outputs": [
    {
     "name": "stdout",
     "output_type": "stream",
     "text": [
      "[('the', 4), ('sun', 2), ('in', 2)]\n",
      "[('python', 3), ('is', 2), ('learning', 1)]\n",
      "[]\n"
     ]
    }
   ],
   "source": [
    "def frequent_words_finder(text):\n",
    "    #your code here\n",
    "    ...\n",
    "\n",
    "print(frequent_words_finder(\"The sun sets in the west, and the sun rises in the east.\"))\n",
    "# expected: [('the', 4), ('sun', 2), ('in', 2)]\n",
    "\n",
    "print(frequent_words_finder(\"Learning Python is fun because Python makes automation easy and Python is everywhere.\"))\n",
    "# expected: [('python', 3), ('is', 2), ('learning', 1)]  \n",
    "\n",
    "print(frequent_words_finder(\"\"))\n",
    "# expected: []"
   ]
  },
  {
   "cell_type": "markdown",
   "id": "be92145e",
   "metadata": {},
   "source": [
    "## 5. Majority Vote "
   ]
  },
  {
   "cell_type": "markdown",
   "id": "0df73ec1",
   "metadata": {},
   "source": [
    "Given a list of integers, our aim is to identify the \"majority element\". The majority element in a list is an element that appears more than n / 2 times. "
   ]
  },
  {
   "cell_type": "code",
   "execution_count": null,
   "id": "8e924772",
   "metadata": {},
   "outputs": [
    {
     "name": "stdout",
     "output_type": "stream",
     "text": [
      "4\n",
      "-1\n",
      "2\n"
     ]
    }
   ],
   "source": [
    "def majority_vote(listA):\n",
    "    #your code here\n",
    "    ...\n",
    "\n",
    "print(majority_vote([3, 3, 4, 2, 4, 4, 2, 4, 4])) # expected output : 4\n",
    "print(majority_vote([3, 3, 4, 2, 4, 4, 2, 4]))    # expected output : -1\n",
    "print(majority_vote([2, 2, 1, 1, 1, 2, 2]))          # expected output : 2"
   ]
  },
  {
   "cell_type": "markdown",
   "id": "8c31b707",
   "metadata": {},
   "source": [
    "## 6. Keyword Index"
   ]
  },
  {
   "cell_type": "markdown",
   "id": "39fd7ff6",
   "metadata": {},
   "source": [
    "We are given a list of strings, with each string representing a document. Our task is to generate an index of all the distinct words in the documents for quick reference. \n",
    "\n",
    "We need to create a dictionary where each unique word is a key, and the corresponding value is a list of indices pointing to the documents where the word can be found."
   ]
  },
  {
   "cell_type": "code",
   "execution_count": null,
   "id": "1757d015",
   "metadata": {},
   "outputs": [
    {
     "name": "stdout",
     "output_type": "stream",
     "text": [
      "{'hello': [0, 1], 'world': [0, 2], 'there': [1], 'of': [2], 'python': [2]}\n",
      "{'data': [0, 2], 'science': [0], 'machine': [1], 'learning': [1, 3], 'analysis': [2], 'algorithms': [3]}\n",
      "{}\n"
     ]
    }
   ],
   "source": [
    "def keyword_index(docs):\n",
    "    #your code here\n",
    "    ...\n",
    "\n",
    "\n",
    "print(keyword_index([\"hello world\", \"hello there\", \"world of python\"]))\n",
    "# expected output : {'hello': [0, 1], 'world': [0, 2], 'there': [1], 'of': [2], 'python': [2]}\n",
    "\n",
    "print(keyword_index([\"data science\", \"machine learning\", \"data analysis\", \"learning algorithms\"]))\n",
    "# expected output : {'data': [0, 2], 'science': [0], 'machine': [1], 'learning': [1, 3], 'analysis': [2], 'algorithms': [3]}\n",
    "\n",
    "print(keyword_index([]))\n",
    "# expected output : {}"
   ]
  },
  {
   "cell_type": "code",
   "execution_count": null,
   "id": "681f994b",
   "metadata": {},
   "outputs": [],
   "source": []
  }
 ],
 "metadata": {
  "kernelspec": {
   "display_name": "Python 3",
   "language": "python",
   "name": "python3"
  },
  "language_info": {
   "codemirror_mode": {
    "name": "ipython",
    "version": 3
   },
   "file_extension": ".py",
   "mimetype": "text/x-python",
   "name": "python",
   "nbconvert_exporter": "python",
   "pygments_lexer": "ipython3",
   "version": "3.10.6"
  }
 },
 "nbformat": 4,
 "nbformat_minor": 5
}
